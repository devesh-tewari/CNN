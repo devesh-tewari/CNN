{
 "cells": [
  {
   "cell_type": "code",
   "execution_count": 1,
   "metadata": {},
   "outputs": [],
   "source": [
    "import sys\n",
    "import numpy as np\n",
    "import math\n",
    "from PIL import Image"
   ]
  },
  {
   "cell_type": "code",
   "execution_count": 2,
   "metadata": {},
   "outputs": [],
   "source": [
    "Input_Row_Size = 32\n",
    "Input_Col_Size = 32\n",
    "Filter_Row_Size = 5\n",
    "Filter_Col_Size = 5\n",
    "Pooling_Filter_Size = 2\n",
    "Pooling_Stride = 2\n",
    "Filter_Channel_L1 = 3\n",
    "Filter_Channel_L2 = 6\n",
    "Filter_Channel_L3 = 16\n",
    "NN_Input_Layer = 120\n",
    "NN_Hidden_Layer = 84\n",
    "NN_Output_Layer = 10"
   ]
  },
  {
   "cell_type": "code",
   "execution_count": 3,
   "metadata": {},
   "outputs": [],
   "source": [
    "def convolution(image, filtr,stride=1):\n",
    "    image_channels,image_row,image_col = image.shape\n",
    "    Number_of_filters, filter_channel, filter_row, filter_col = filtr.shape\n",
    "    result_dimension = int((image_row-filter_row)/stride)+1\n",
    "    result = np.zeros((Number_of_filters,result_dimension,result_dimension))\n",
    "    for cf in range(Number_of_filters):\n",
    "        for row in range(result_dimension):\n",
    "            for col in range(result_dimension):\n",
    "                result[cf][row][col] = np.sum(np.multiply(filtr[cf], image[:,row:row+filter_row,col:col+filter_col]))\n",
    "    return result"
   ]
  },
  {
   "cell_type": "code",
   "execution_count": 4,
   "metadata": {},
   "outputs": [],
   "source": [
    "def maxPooling(image,filter_size,stride):\n",
    "    image_channels,image_row,image_col = image.shape\n",
    "    output_row = int((image_row - filter_size)/stride)+1\n",
    "    output_col = int((image_col - filter_size)/stride)+1\n",
    "    result = np.zeros((image_channels,output_row,output_col))\n",
    "    \n",
    "    for ic in range(image_channels):\n",
    "        temp_row = 0\n",
    "        for row in range(output_row):\n",
    "            temp_col = 0\n",
    "            for col in range(output_col):\n",
    "                result[ic][row][col] = np.max(image[ic,temp_row:temp_row+filter_size, temp_col:temp_col+filter_size])\n",
    "                temp_col+=stride\n",
    "            temp_row+=stride\n",
    "    return result"
   ]
  },
  {
   "cell_type": "code",
   "execution_count": 5,
   "metadata": {},
   "outputs": [],
   "source": [
    "def softMax(Z):\n",
    "    expA=np.exp(Z-Z.max(1).reshape(Z.shape[0],1))\n",
    "    esum=expA/np.sum(expA,1).reshape(Z.shape[0],1)\n",
    "    return esum"
   ]
  },
  {
   "cell_type": "code",
   "execution_count": 6,
   "metadata": {},
   "outputs": [],
   "source": [
    "def sigmoid(z):\n",
    "    return 1.0/(1 + np.float128(np.exp(-z)))"
   ]
  },
  {
   "cell_type": "code",
   "execution_count": 7,
   "metadata": {},
   "outputs": [],
   "source": [
    "def forward(X):\n",
    "    Wih = (np.random.randn(NN_Input_Layer , NN_Hidden_Layer)) * math.sqrt(2.0/NN_Input_Layer)\n",
    "    Who = (np.random.randn(NN_Hidden_Layer , NN_Output_Layer)) * math.sqrt(2.0/NN_Input_Layer)\n",
    "    Z1 =  (np.dot(X,Wih))\n",
    "    Z1[Z1<=0] = 0   #relu\n",
    "    A1 = Z1         #relu\n",
    "#     A1 =  np.tanh(Z1)    #tanh\n",
    "    Z2 =  (np.dot(A1,Who))\n",
    "    Y_hat = softMax(Z2)\n",
    "    return Y_hat"
   ]
  },
  {
   "cell_type": "code",
   "execution_count": 8,
   "metadata": {
    "scrolled": true
   },
   "outputs": [
    {
     "name": "stdout",
     "output_type": "stream",
     "text": [
      "Original Image Shape: (225, 225, 3) \n",
      "\n",
      "Reduced Image Shape: (3, 32, 32) \n",
      "\n",
      "Filter 1 Shape: (6, 3, 5, 5) \n",
      "\n",
      "Convolution 1 Output Shape: (6, 28, 28) \n",
      "\n",
      "Pooling 1 Output Shape: (6, 14, 14) \n",
      "\n",
      "Filter 2 Shape: (16, 6, 5, 5) \n",
      "\n",
      "Convolution 2 Output Shape: (16, 10, 10) \n",
      "\n",
      "Pooling 2 Output Shape: (16, 5, 5) \n",
      "\n",
      "Filter 3 Shape: (120, 16, 5, 5)\n",
      "Convolution 3 Output Shape: (120, 1, 1) \n",
      "\n"
     ]
    }
   ],
   "source": [
    "input_image = Image.open('input.jpg')\n",
    "# input_image.show()\n",
    "image_array = np.array(input_image)\n",
    "print \"Original Image Shape:\", image_array.shape,'\\n'\n",
    "input_image = input_image.resize((Input_Row_Size,Input_Col_Size),Image.ANTIALIAS)\n",
    "# input_image.show()\n",
    "reduced_image_array = np.array(input_image)\n",
    "reduced_image_array = reduced_image_array.reshape(3,Input_Row_Size,Input_Col_Size)\n",
    "print \"Reduced Image Shape:\", reduced_image_array.shape,'\\n'\n",
    "Number_of_filters = 6\n",
    "filter1 = np.random.randn(Number_of_filters,Filter_Channel_L1,Filter_Row_Size,Filter_Col_Size)\n",
    "print \"Filter 1 Shape:\", filter1.shape,'\\n'\n",
    "conv1_output=convolution(reduced_image_array,filter1)\n",
    "print \"Convolution 1 Output Shape:\",conv1_output.shape,'\\n'\n",
    "\n",
    "temp = conv1_output.reshape(28,28,6)\n",
    "img1 = Image.fromarray(temp,'RGB')\n",
    "img1 = img1.resize((551,340))\n",
    "img1.show()\n",
    "\n",
    "pool1_output=maxPooling(conv1_output,Pooling_Filter_Size,Pooling_Stride)\n",
    "print \"Pooling 1 Output Shape:\",pool1_output.shape,'\\n'\n",
    "\n",
    "\n",
    "temp = pool1_output.reshape(14,14,6)\n",
    "img2 = Image.fromarray(temp,'RGB')\n",
    "img2 = img2.resize((551,340))\n",
    "img2.show()\n",
    "\n",
    "Number_of_filters = 16\n",
    "filter2 = np.random.randn(Number_of_filters,Filter_Channel_L2,Filter_Row_Size,Filter_Col_Size)\n",
    "print \"Filter 2 Shape:\", filter2.shape,'\\n'\n",
    "conv2_output=convolution(pool1_output,filter2)\n",
    "print \"Convolution 2 Output Shape:\",conv2_output.shape,'\\n'\n",
    "\n",
    "temp = conv2_output.reshape(10,10,16)\n",
    "img3 = Image.fromarray(temp,'RGB')\n",
    "img3 = img3.resize((551,340))\n",
    "img3.show()\n",
    "\n",
    "\n",
    "pool2_output=maxPooling(conv2_output,Pooling_Filter_Size,Pooling_Stride)\n",
    "print \"Pooling 2 Output Shape:\", pool2_output.shape,'\\n'\n",
    "\n",
    "temp = pool2_output.reshape(5,5,16)\n",
    "img4 = Image.fromarray(temp,'RGB')\n",
    "img4 = img4.resize((551,340))\n",
    "img4.show()\n",
    "\n",
    "Number_of_filters = 120\n",
    "filter3 = np.random.randn(Number_of_filters,Filter_Channel_L3,Filter_Row_Size,Filter_Col_Size)\n",
    "print \"Filter 3 Shape:\", filter3.shape\n",
    "conv3_output=convolution(pool2_output,filter3)\n",
    "print \"Convolution 3 Output Shape:\", conv3_output.shape,'\\n'\n",
    "\n",
    "temp = conv3_output.reshape(1,1,120)\n",
    "img5 = Image.fromarray(temp,'RGB')\n",
    "img5 = img5.resize((551,340))\n",
    "img5.show()"
   ]
  },
  {
   "cell_type": "code",
   "execution_count": 9,
   "metadata": {},
   "outputs": [
    {
     "name": "stdout",
     "output_type": "stream",
     "text": [
      "Full Connection Neural Network Feed forward Output shape: (1, 10)\n",
      "Final Output: 3\n"
     ]
    }
   ],
   "source": [
    "cv3_channels,cv3_row,cv3_col = conv3_output.shape\n",
    "full_connection = conv3_output.reshape(cv3_channels*cv3_row*cv3_col,1)   #flattened layer\n",
    "full_connection = full_connection.astype('float64')\n",
    "NN_forward_output = forward(full_connection.T)\n",
    "print \"Full Connection Neural Network Feed forward Output shape:\",NN_forward_output.shape\n",
    "print \"Final Output:\",np.argmax(NN_forward_output)"
   ]
  }
 ],
 "metadata": {
  "kernelspec": {
   "display_name": "Python 2",
   "language": "python",
   "name": "python2"
  },
  "language_info": {
   "codemirror_mode": {
    "name": "ipython",
    "version": 2
   },
   "file_extension": ".py",
   "mimetype": "text/x-python",
   "name": "python",
   "nbconvert_exporter": "python",
   "pygments_lexer": "ipython2",
   "version": "2.7.15rc1"
  }
 },
 "nbformat": 4,
 "nbformat_minor": 2
}
